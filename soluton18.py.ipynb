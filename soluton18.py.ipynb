{
 "cells": [
  {
   "cell_type": "code",
   "execution_count": 1,
   "metadata": {},
   "outputs": [],
   "source": [
    "#Question 18\n",
    "\n",
    "\n",
    "#Question:\n",
    "#A website requires the users to input username and password to register. Write a program to check the \n",
    "#validity of password input by users.\n",
    "#Following are the criteria for checking the password:\n",
    "#1. At least 1 letter between [a-z]\n",
    "#2. At least 1 number between [0-9]\n",
    "#1. At least 1 letter between [A-Z]\n",
    "#3. At least 1 character from [$#@]\n",
    "#4. Minimum length of transaction password: 6\n",
    "#5. Maximum length of transaction password: 12\n",
    "#Your program should accept a sequence of comma separated passwords and will check them according to the above criteria. Passwords that match the criteria are to be printed, each separated by a comma.\n",
    "#Example\n",
    "#If the following passwords are given as input to the program:\n",
    "#ABd1234@1,a F1#,2w3E*,2We3345\n",
    "#Then, the output of the program should be:\n",
    "#ABd1234@1\n",
    "\n",
    "#Hints:\n",
    "#In case of input data being supplied to the question, it should be assumed to be a console input."
   ]
  },
  {
   "cell_type": "code",
   "execution_count": 23,
   "metadata": {},
   "outputs": [
    {
     "name": "stdout",
     "output_type": "stream",
     "text": [
      "Enter comma-separated passwords: ABd1234@1,a F1#,2w3E*,2We3345\n",
      "ABd1234@1\n"
     ]
    }
   ],
   "source": [
    "special_str = (\"$#@\")\n",
    "accepted = []\n",
    "\n",
    "passwords = input(\"Enter comma-separated passwords: \").split(',')\n",
    "\n",
    "for password in passwords:\n",
    "\n",
    "    lower = 0\n",
    "    upper = 0\n",
    "    digits = 0\n",
    "    special = 0\n",
    "\n",
    "    for char in password:\n",
    "\n",
    "        if char.islower():\n",
    "            lower += 1\n",
    "        elif char.isupper():\n",
    "            upper += 1\n",
    "        elif char.isdigit():\n",
    "            digits += 1\n",
    "        elif special_str.find(char) != -1:\n",
    "            special += 1\n",
    "\n",
    "    if lower >= 1 and upper >= 1 and digits >= 1 and special >= 1 and len(password) in range(6,13):\n",
    "        accepted.append(password)\n",
    "\n",
    "print (\",\".join(accepted))\n"
   ]
  },
  {
   "cell_type": "code",
   "execution_count": null,
   "metadata": {},
   "outputs": [],
   "source": []
  }
 ],
 "metadata": {
  "kernelspec": {
   "display_name": "Python 3",
   "language": "python",
   "name": "python3"
  },
  "language_info": {
   "codemirror_mode": {
    "name": "ipython",
    "version": 3
   },
   "file_extension": ".py",
   "mimetype": "text/x-python",
   "name": "python",
   "nbconvert_exporter": "python",
   "pygments_lexer": "ipython3",
   "version": "3.7.1"
  }
 },
 "nbformat": 4,
 "nbformat_minor": 2
}
