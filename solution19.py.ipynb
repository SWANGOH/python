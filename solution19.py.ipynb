{
 "cells": [
  {
   "cell_type": "code",
   "execution_count": 1,
   "metadata": {},
   "outputs": [],
   "source": [
    "#Question 19\n",
    "\n",
    "\n",
    "#Question:\n",
    "#You are required to write a program to sort the (name, age, height) tuples by ascending order where name is string, \n",
    "#age and height are numbers. The tuples are input by console. The sort criteria is:\n",
    "#1: Sort based on name;\n",
    "#2: Then sort based on age;\n",
    "#3: Then sort by score.\n",
    "#The priority is that name > age > score.\n",
    "#If the following tuples are given as input to the program:\n",
    "#Tom,19,80\n",
    "#John,20,90\n",
    "#Jony,17,91\n",
    "#Jony,17,93\n",
    "#Json,21,85\n",
    "#Then, the output of the program should be:\n",
    "#[('John', '20', '90'), ('Jony', '17', '91'), ('Jony', '17', '93'), ('Json', '21', '85'), ('Tom', '19', '80')]\n",
    "\n",
    "#Hints:\n",
    "#In case of input data being supplied to the question, it should be assumed to be a console input.\n",
    "#We use itemgetter to enable multiple sort keys.\n"
   ]
  },
  {
   "cell_type": "code",
   "execution_count": null,
   "metadata": {},
   "outputs": [],
   "source": []
  },
  {
   "cell_type": "code",
   "execution_count": null,
   "metadata": {},
   "outputs": [],
   "source": []
  },
  {
   "cell_type": "code",
   "execution_count": null,
   "metadata": {},
   "outputs": [
    {
     "name": "stdout",
     "output_type": "stream",
     "text": [
      "Tom,19,80\n"
     ]
    }
   ],
   "source": [
    "from operator import itemgetter\n",
    "\n",
    "l = []\n",
    "while True:\n",
    "    s = input()\n",
    "    if not s:\n",
    "        break\n",
    "    l.append(tuple(s.split(\",\")))\n",
    "    \n",
    "l.sort(key=itemgetter(0,1,2))\n",
    "\n",
    "print(l)"
   ]
  },
  {
   "cell_type": "code",
   "execution_count": null,
   "metadata": {},
   "outputs": [],
   "source": []
  }
 ],
 "metadata": {
  "kernelspec": {
   "display_name": "Python 3",
   "language": "python",
   "name": "python3"
  },
  "language_info": {
   "codemirror_mode": {
    "name": "ipython",
    "version": 3
   },
   "file_extension": ".py",
   "mimetype": "text/x-python",
   "name": "python",
   "nbconvert_exporter": "python",
   "pygments_lexer": "ipython3",
   "version": "3.7.1"
  }
 },
 "nbformat": 4,
 "nbformat_minor": 2
}
