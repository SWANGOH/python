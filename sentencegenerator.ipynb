{
 "cells": [
  {
   "cell_type": "code",
   "execution_count": 1,
   "metadata": {},
   "outputs": [
    {
     "name": "stderr",
     "output_type": "stream",
     "text": [
      "ERROR:root:File `'ExSol.py'` not found.\n"
     ]
    },
    {
     "name": "stdout",
     "output_type": "stream",
     "text": [
      "Please enter a word in the sentence (x) :my\n",
      "Please enter a word in the sentence (x):name\n",
      "Please enter a word in the sentence (x):is\n",
      "Please enter a word in the sentence (x):stephanie\n",
      "Please enter a word in the sentence (x):swangoh!\n",
      "currently: my\n",
      "currently : my name\n",
      "currenlty : my name is\n",
      "currently : my name is stephanie\n",
      "currently : my name is stephanie swangoh!\n"
     ]
    }
   ],
   "source": [
    "%run ExSol.py\n",
    "\n",
    "\n",
    "word1 = input(\"Please enter a word in the sentence (x) :\")\n",
    "x = \".\",\"!\",\"?\"\n",
    "while True:\n",
    "          if x:\n",
    "            \n",
    "            break\n",
    "else:\n",
    "    pass\n",
    "    \n",
    "word2 = input(\"Please enter a word in the sentence (x):\")\n",
    "word3 = input(\"Please enter a word in the sentence (x):\")\n",
    "word4 = input(\"Please enter a word in the sentence (x):\")\n",
    "word5 = input(\"Please enter a word in the sentence (x):\")\n",
    "\n",
    "print(\"currently: \" + word1 + \"\\ncurrently : \" + word1 + \" \" + word2 + \"\\ncurrenlty : \" + word1 + \" \" + word2 + \" \" + word3 + \"\\ncurrently : \" + word1 + \" \" + word2 + \" \" + word3 + \" \" + word4 + \"\\ncurrently : \" + word1 + \" \" + word2 + \" \" + word3 + \" \" + word4 + \" \" + word5)"
   ]
  },
  {
   "cell_type": "code",
   "execution_count": null,
   "metadata": {},
   "outputs": [],
   "source": []
  }
 ],
 "metadata": {
  "kernelspec": {
   "display_name": "Python 3",
   "language": "python",
   "name": "python3"
  },
  "language_info": {
   "codemirror_mode": {
    "name": "ipython",
    "version": 3
   },
   "file_extension": ".py",
   "mimetype": "text/x-python",
   "name": "python",
   "nbconvert_exporter": "python",
   "pygments_lexer": "ipython3",
   "version": "3.7.1"
  }
 },
 "nbformat": 4,
 "nbformat_minor": 2
}
