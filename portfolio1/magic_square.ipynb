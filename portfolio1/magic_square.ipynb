{
 "cells": [
  {
   "cell_type": "code",
   "execution_count": 1,
   "metadata": {},
   "outputs": [
    {
     "name": "stdout",
     "output_type": "stream",
     "text": [
      "please enter an odd number:3\n",
      "\n",
      "generate magic square of order 3\n",
      "[[8 1 6]\n",
      " [3 5 7]\n",
      " [4 9 2]]\n",
      "\n",
      "constant for the magic square 15\n",
      " valid magic square\n"
     ]
    }
   ],
   "source": [
    "#!/usr/bin/env python3\n",
    "#generating N*N magic square where N is \n",
    "# an odd number based on Lo Shu's 3 x 3 square\n",
    "\n",
    "import numpy as np\n",
    "import math\n",
    "\n",
    "N = int(input(\"please enter an odd number:\"))\n",
    "odd_square = np.zeros((N,N), dtype = int)\n",
    "\n",
    "n = 1\n",
    "i,j = 0, N//2\n",
    "\n",
    "while n <= N**2:\n",
    "    odd_square[i,j] = n\n",
    "    n += 1\n",
    "    newi,newj = (i-1)%N,(j+1)%N\n",
    "    if odd_square[newi,newj]:\n",
    "        i += 1\n",
    "    else:\n",
    "       i,j = newi,newj\n",
    "print('\\ngenerate magic square of order %i' %(N))     \n",
    "print(odd_square)\n",
    "print('\\nconstant for the magic square %i' % ((N * N + 1) * N//2))   \n",
    "\n",
    "def magic_square(my_matrix):\n",
    "     inputsize = len(my_matrix)\n",
    "     sum_list = []\n",
    "     #rows\n",
    "     sum_list.extend(sum(lines)for lines in my_matrix)\n",
    "     #columns\n",
    "     for col in range(inputsize):\n",
    "         sum_list.append(sum(row[col] for row in my_matrix))\n",
    "     #diagonals:\n",
    "     result1 = 0\n",
    "     for i in range(0,inputsize):\n",
    "         result1 += my_matrix[i][i]\n",
    "         sum_list.append(result1)\n",
    "     result2 = 0\n",
    "     for i in range(inputsize-1,-1,-1):\n",
    "         result2 += my_matrix[i][i]\n",
    "         sum_list.append(result2)\n",
    "     if len(set(sum_list))>1:\n",
    "         return \" valid magic square\"\n",
    "     else:\n",
    "         return \" not valid magic square\"\n",
    " \n",
    "print(magic_square(odd_square))\n",
    "          "
   ]
  },
  {
   "cell_type": "code",
   "execution_count": null,
   "metadata": {},
   "outputs": [],
   "source": []
  }
 ],
 "metadata": {
  "kernelspec": {
   "display_name": "Python 3",
   "language": "python",
   "name": "python3"
  },
  "language_info": {
   "codemirror_mode": {
    "name": "ipython",
    "version": 3
   },
   "file_extension": ".py",
   "mimetype": "text/x-python",
   "name": "python",
   "nbconvert_exporter": "python",
   "pygments_lexer": "ipython3",
   "version": "3.7.1"
  }
 },
 "nbformat": 4,
 "nbformat_minor": 2
}
