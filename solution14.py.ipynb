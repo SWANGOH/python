{
 "cells": [
  {
   "cell_type": "code",
   "execution_count": 1,
   "metadata": {},
   "outputs": [],
   "source": [
    "#Question 14\n",
    "\n",
    "\n",
    "#Question:\n",
    "#Write a program that accepts a sentence and calculate the number of upper case letters and lower case letters.\n",
    "#Suppose the following input is supplied to the program:\n",
    "#Hello world!\n",
    "#Then, the output should be:\n",
    "#UPPER CASE 1\n",
    "#LOWER CASE 9\n",
    "\n",
    "#Hints:\n",
    "#In case of input data being supplied to the question, it should be assumed to be a console input."
   ]
  },
  {
   "cell_type": "code",
   "execution_count": 3,
   "metadata": {},
   "outputs": [
    {
     "name": "stdout",
     "output_type": "stream",
     "text": [
      "please enter a sentence with upper and lower case letters :Hello world !\n",
      "UPPER CASE 1\n",
      "LOWER CASE 9\n"
     ]
    }
   ],
   "source": [
    "sentence = input(\"please enter a sentence with upper and lower case letters :\")\n",
    "letters ={\"UPPER CASE\":0, \"LOWER CASE\":0}\n",
    "for case in sentence:\n",
    "    if case.isupper():\n",
    "        letters[\"UPPER CASE\"]+=1\n",
    "    elif case.islower():\n",
    "        letters[\"LOWER CASE\"]+=1\n",
    "    else:\n",
    "        pass\n",
    "print (\"UPPER CASE\", letters[\"UPPER CASE\"])\n",
    "print (\"LOWER CASE\", letters[\"LOWER CASE\"])\n"
   ]
  },
  {
   "cell_type": "code",
   "execution_count": null,
   "metadata": {},
   "outputs": [],
   "source": []
  }
 ],
 "metadata": {
  "kernelspec": {
   "display_name": "Python 3",
   "language": "python",
   "name": "python3"
  },
  "language_info": {
   "codemirror_mode": {
    "name": "ipython",
    "version": 3
   },
   "file_extension": ".py",
   "mimetype": "text/x-python",
   "name": "python",
   "nbconvert_exporter": "python",
   "pygments_lexer": "ipython3",
   "version": "3.7.1"
  }
 },
 "nbformat": 4,
 "nbformat_minor": 2
}
