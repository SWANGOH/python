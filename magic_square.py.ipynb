{
 "cells": [
  {
   "cell_type": "code",
   "execution_count": 1,
   "metadata": {},
   "outputs": [
    {
     "name": "stdout",
     "output_type": "stream",
     "text": [
      "please enter an odd number:15\n",
      "\n",
      "generate magic square of order 15\n",
      "[[122 139 156 173 190 207 224   1  18  35  52  69  86 103 120]\n",
      " [138 155 172 189 206 223  15  17  34  51  68  85 102 119 121]\n",
      " [154 171 188 205 222  14  16  33  50  67  84 101 118 135 137]\n",
      " [170 187 204 221  13  30  32  49  66  83 100 117 134 136 153]\n",
      " [186 203 220  12  29  31  48  65  82  99 116 133 150 152 169]\n",
      " [202 219  11  28  45  47  64  81  98 115 132 149 151 168 185]\n",
      " [218  10  27  44  46  63  80  97 114 131 148 165 167 184 201]\n",
      " [  9  26  43  60  62  79  96 113 130 147 164 166 183 200 217]\n",
      " [ 25  42  59  61  78  95 112 129 146 163 180 182 199 216   8]\n",
      " [ 41  58  75  77  94 111 128 145 162 179 181 198 215   7  24]\n",
      " [ 57  74  76  93 110 127 144 161 178 195 197 214   6  23  40]\n",
      " [ 73  90  92 109 126 143 160 177 194 196 213   5  22  39  56]\n",
      " [ 89  91 108 125 142 159 176 193 210 212   4  21  38  55  72]\n",
      " [105 107 124 141 158 175 192 209 211   3  20  37  54  71  88]\n",
      " [106 123 140 157 174 191 208 225   2  19  36  53  70  87 104]]\n",
      "\n",
      "constant for the magic square 1695\n",
      " valid magic square\n"
     ]
    }
   ],
   "source": [
    "#!/usr/bin/env python3\n",
    "#generating N*N magic square where N is \n",
    "# an odd number based on Lo Shu's 3 x 3 square\n",
    "\n",
    "import numpy as np\n",
    "import math\n",
    "\n",
    "N = int(input(\"please enter an odd number:\"))\n",
    "odd_square = np.zeros((N,N), dtype = int)\n",
    "\n",
    "n = 1\n",
    "i,j = 0, N//2\n",
    "\n",
    "while n <= N**2:\n",
    "    odd_square[i,j] = n\n",
    "    n += 1\n",
    "    newi,newj = (i-1)%N,(j+1)%N\n",
    "    if odd_square[newi,newj]:\n",
    "        i += 1\n",
    "    else:\n",
    "       i,j = newi,newj\n",
    "print('\\ngenerate magic square of order %i' %(N))     \n",
    "print(odd_square)\n",
    "print('\\nconstant for the magic square %i' % ((N * N + 1) * N//2))   \n",
    "\n",
    "def magic_square(my_matrix):\n",
    "     inputsize = len(my_matrix)\n",
    "     sum_list = []\n",
    "     #rows\n",
    "     sum_list.extend(sum(lines)for lines in my_matrix)\n",
    "     #columns\n",
    "     for col in range(inputsize):\n",
    "         sum_list.append(sum(row[col] for row in my_matrix))\n",
    "     #diagonals:\n",
    "     result1 = 0\n",
    "     for i in range(0,inputsize):\n",
    "         result1 += my_matrix[i][i]\n",
    "         sum_list.append(result1)\n",
    "     result2 = 0\n",
    "     for i in range(inputsize-1,-1,-1):\n",
    "         result2 += my_matrix[i][i]\n",
    "         sum_list.append(result2)\n",
    "     if len(set(sum_list))>1:\n",
    "         return \" valid magic square\"\n",
    "     else:\n",
    "         return \" not valid magic square\"\n",
    " \n",
    "print(magic_square(odd_square))\n",
    "          "
   ]
  },
  {
   "cell_type": "code",
   "execution_count": null,
   "metadata": {},
   "outputs": [],
   "source": []
  }
 ],
 "metadata": {
  "kernelspec": {
   "display_name": "Python 3",
   "language": "python",
   "name": "python3"
  },
  "language_info": {
   "codemirror_mode": {
    "name": "ipython",
    "version": 3
   },
   "file_extension": ".py",
   "mimetype": "text/x-python",
   "name": "python",
   "nbconvert_exporter": "python",
   "pygments_lexer": "ipython3",
   "version": "3.7.1"
  }
 },
 "nbformat": 4,
 "nbformat_minor": 2
}
