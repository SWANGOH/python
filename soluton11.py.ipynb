{
 "cells": [
  {
   "cell_type": "code",
   "execution_count": 1,
   "metadata": {},
   "outputs": [],
   "source": [
    "#Question 11\n",
    "\n",
    "\n",
    "#Question:\n",
    "#Write a program which accepts a sequence of comma separated 4 digit binary numbers as its \n",
    "#input and then check whether they are divisible by 5 or not. The numbers that are divisible \n",
    "#by 5 are to be printed in a comma separated sequence.\n",
    "#Example:\n",
    "#0100,0011,1010,1001\n",
    "#Then the output should be:\n",
    "#1010\n",
    "#Notes: Assume the data is input by console.\n",
    "\n",
    "#Hints:\n",
    "#In case of input data being supplied to the question, it should be assumed to be a console input."
   ]
  },
  {
   "cell_type": "code",
   "execution_count": 9,
   "metadata": {},
   "outputs": [
    {
     "name": "stdout",
     "output_type": "stream",
     "text": [
      "enter a sequence of comma separated 4 digit binary numbers :0100,0011,1010,1001\n",
      "1010\n"
     ]
    }
   ],
   "source": [
    "ans = []\n",
    "numbers = input(\"enter a sequence of comma separated 4 digit binary numbers :\")\n",
    "values =numbers.split(',')\n",
    "for u in values:\n",
    "    intu = int(u, 2)\n",
    "    if not intu%5:\n",
    "        ans.append(u)\n",
    "\n",
    "print(','.join(ans))"
   ]
  },
  {
   "cell_type": "code",
   "execution_count": null,
   "metadata": {},
   "outputs": [],
   "source": []
  }
 ],
 "metadata": {
  "kernelspec": {
   "display_name": "Python 3",
   "language": "python",
   "name": "python3"
  },
  "language_info": {
   "codemirror_mode": {
    "name": "ipython",
    "version": 3
   },
   "file_extension": ".py",
   "mimetype": "text/x-python",
   "name": "python",
   "nbconvert_exporter": "python",
   "pygments_lexer": "ipython3",
   "version": "3.7.1"
  }
 },
 "nbformat": 4,
 "nbformat_minor": 2
}
