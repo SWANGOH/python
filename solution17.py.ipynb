{
 "cells": [
  {
   "cell_type": "code",
   "execution_count": 1,
   "metadata": {},
   "outputs": [],
   "source": [
    "#Question 17\n",
    "\n",
    "#Question:\n",
    "#Write a program that computes the net amount of a bank account based a transaction log from console input. \n",
    "#The transaction log format is shown as following:\n",
    "#D 100\n",
    "#W 200\n",
    "\n",
    "#D means deposit while W means withdrawal.\n",
    "#Suppose the following input is supplied to the program:\n",
    "#D 300\n",
    "#D 300\n",
    "#W 200\n",
    "#D 100\n",
    "#Then, the output should be:\n",
    "#500\n",
    "\n",
    "#Hints:\n",
    "#In case of input data being supplied to the question, it should be assumed to be a console input."
   ]
  },
  {
   "cell_type": "code",
   "execution_count": 2,
   "metadata": {},
   "outputs": [
    {
     "name": "stdout",
     "output_type": "stream",
     "text": [
      "D 300\n",
      "D 300\n",
      "W 200\n",
      "D 100\n",
      "\n",
      "500\n"
     ]
    }
   ],
   "source": [
    "Amount = 0\n",
    "while True:\n",
    "    s = input()\n",
    "    if not s:\n",
    "        break\n",
    "    values = s.split(\" \")\n",
    "    operation = values[0]\n",
    "    amount = int(values[1])\n",
    "    if operation==\"D\":\n",
    "        Amount+=amount\n",
    "    elif operation==\"W\":\n",
    "        Amount-= amount\n",
    "    else:\n",
    "        pass\n",
    "print(Amount)"
   ]
  },
  {
   "cell_type": "code",
   "execution_count": null,
   "metadata": {},
   "outputs": [],
   "source": []
  }
 ],
 "metadata": {
  "kernelspec": {
   "display_name": "Python 3",
   "language": "python",
   "name": "python3"
  },
  "language_info": {
   "codemirror_mode": {
    "name": "ipython",
    "version": 3
   },
   "file_extension": ".py",
   "mimetype": "text/x-python",
   "name": "python",
   "nbconvert_exporter": "python",
   "pygments_lexer": "ipython3",
   "version": "3.7.1"
  }
 },
 "nbformat": 4,
 "nbformat_minor": 2
}
